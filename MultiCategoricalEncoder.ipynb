{
  "nbformat": 4,
  "nbformat_minor": 0,
  "metadata": {
    "colab": {
      "name": "MultiCategoricalEncoder",
      "version": "0.3.2",
      "provenance": []
    },
    "kernelspec": {
      "name": "python3",
      "display_name": "Python 3"
    }
  },
  "cells": [
    {
      "metadata": {
        "id": "p5JC0_PkB71x",
        "colab_type": "text"
      },
      "cell_type": "markdown",
      "source": [
        "### To reproduce this notebook, you can use [google colab](https://colab.research.google.com/github/georgianpartners/notebooks/blob/master/MultiCategoricalEncoder.ipynb)"
      ]
    },
    {
      "metadata": {
        "id": "qmlmEHE86TE3",
        "colab_type": "text"
      },
      "cell_type": "markdown",
      "source": [
        "# Multiple Categorical Encoding Problem\n",
        "\n",
        "In Machine Learning, we often have features given not as continuous but categorical values. We can use LabelEncoder and OneHotEncoder from scikit-learn library to properly encode categorical feature to numerical values before feeding the data into an ML algorithm. See this [scikit-learn Guilde](http://scikit-learn.org/stable/modules/preprocessing.html#encoding-categorical-features) for more details.\n",
        "\n",
        "In a more complex scenario, each value in a feature column might contain a delimited list of categories. In the following example, the industry column contains comma separated industry catetories.\n"
      ]
    },
    {
      "metadata": {
        "id": "paB7VE7q4sNo",
        "colab_type": "code",
        "outputId": "d64cd4c6-3acf-40bb-81e7-05256a60d0b4",
        "colab": {
          "base_uri": "https://localhost:8080/",
          "height": 166
        }
      },
      "cell_type": "code",
      "source": [
        "import pandas as pd\n",
        "data = pd.DataFrame([['SaaS,Health Care'], ['SaaS, Enterprise Software'], ['Health Care, Enterprise Software'], ['Finance Software']], columns=['industry'])\n",
        "data"
      ],
      "execution_count": 1,
      "outputs": [
        {
          "output_type": "execute_result",
          "data": {
            "text/html": [
              "<div>\n",
              "<style scoped>\n",
              "    .dataframe tbody tr th:only-of-type {\n",
              "        vertical-align: middle;\n",
              "    }\n",
              "\n",
              "    .dataframe tbody tr th {\n",
              "        vertical-align: top;\n",
              "    }\n",
              "\n",
              "    .dataframe thead th {\n",
              "        text-align: right;\n",
              "    }\n",
              "</style>\n",
              "<table border=\"1\" class=\"dataframe\">\n",
              "  <thead>\n",
              "    <tr style=\"text-align: right;\">\n",
              "      <th></th>\n",
              "      <th>industry</th>\n",
              "    </tr>\n",
              "  </thead>\n",
              "  <tbody>\n",
              "    <tr>\n",
              "      <th>0</th>\n",
              "      <td>SaaS,Health Care</td>\n",
              "    </tr>\n",
              "    <tr>\n",
              "      <th>1</th>\n",
              "      <td>SaaS, Enterprise Software</td>\n",
              "    </tr>\n",
              "    <tr>\n",
              "      <th>2</th>\n",
              "      <td>Health Care, Enterprise Software</td>\n",
              "    </tr>\n",
              "    <tr>\n",
              "      <th>3</th>\n",
              "      <td>Finance Software</td>\n",
              "    </tr>\n",
              "  </tbody>\n",
              "</table>\n",
              "</div>"
            ],
            "text/plain": [
              "                           industry\n",
              "0                  SaaS,Health Care\n",
              "1         SaaS, Enterprise Software\n",
              "2  Health Care, Enterprise Software\n",
              "3                  Finance Software"
            ]
          },
          "metadata": {
            "tags": []
          },
          "execution_count": 1
        }
      ]
    },
    {
      "metadata": {
        "id": "pb7NT7HU9lSu",
        "colab_type": "text"
      },
      "cell_type": "markdown",
      "source": [
        "Ideally, we would like to encode such feature in a way similar to one-hot-encoding so that each category get its own column but a sample can get multiple '1's for each category it has in its list. Here is an example of such encoding."
      ]
    },
    {
      "metadata": {
        "id": "vkhjDYg86Omn",
        "colab_type": "code",
        "outputId": "1e90dd75-ecae-4d3b-a6cf-3cbeca421c6a",
        "colab": {
          "base_uri": "https://localhost:8080/",
          "height": 166
        }
      },
      "cell_type": "code",
      "source": [
        "encoding = pd.DataFrame([\n",
        "    [1, 1, 0, 0],\n",
        "    [1, 0, 1, 0],\n",
        "    [0, 1, 1, 0],\n",
        "    [0, 0, 0, 1]\n",
        "], columns=['industry_SaaS', 'industry_Health Care', 'industry_Enterprise Software', 'industry_Finance Software'])\n",
        "encoding"
      ],
      "execution_count": 2,
      "outputs": [
        {
          "output_type": "execute_result",
          "data": {
            "text/html": [
              "<div>\n",
              "<style scoped>\n",
              "    .dataframe tbody tr th:only-of-type {\n",
              "        vertical-align: middle;\n",
              "    }\n",
              "\n",
              "    .dataframe tbody tr th {\n",
              "        vertical-align: top;\n",
              "    }\n",
              "\n",
              "    .dataframe thead th {\n",
              "        text-align: right;\n",
              "    }\n",
              "</style>\n",
              "<table border=\"1\" class=\"dataframe\">\n",
              "  <thead>\n",
              "    <tr style=\"text-align: right;\">\n",
              "      <th></th>\n",
              "      <th>industry_SaaS</th>\n",
              "      <th>industry_Health Care</th>\n",
              "      <th>industry_Enterprise Software</th>\n",
              "      <th>industry_Finance Software</th>\n",
              "    </tr>\n",
              "  </thead>\n",
              "  <tbody>\n",
              "    <tr>\n",
              "      <th>0</th>\n",
              "      <td>1</td>\n",
              "      <td>1</td>\n",
              "      <td>0</td>\n",
              "      <td>0</td>\n",
              "    </tr>\n",
              "    <tr>\n",
              "      <th>1</th>\n",
              "      <td>1</td>\n",
              "      <td>0</td>\n",
              "      <td>1</td>\n",
              "      <td>0</td>\n",
              "    </tr>\n",
              "    <tr>\n",
              "      <th>2</th>\n",
              "      <td>0</td>\n",
              "      <td>1</td>\n",
              "      <td>1</td>\n",
              "      <td>0</td>\n",
              "    </tr>\n",
              "    <tr>\n",
              "      <th>3</th>\n",
              "      <td>0</td>\n",
              "      <td>0</td>\n",
              "      <td>0</td>\n",
              "      <td>1</td>\n",
              "    </tr>\n",
              "  </tbody>\n",
              "</table>\n",
              "</div>"
            ],
            "text/plain": [
              "   industry_SaaS  industry_Health Care  industry_Enterprise Software  \\\n",
              "0              1                     1                             0   \n",
              "1              1                     0                             1   \n",
              "2              0                     1                             1   \n",
              "3              0                     0                             0   \n",
              "\n",
              "   industry_Finance Software  \n",
              "0                          0  \n",
              "1                          0  \n",
              "2                          0  \n",
              "3                          1  "
            ]
          },
          "metadata": {
            "tags": []
          },
          "execution_count": 2
        }
      ]
    },
    {
     "cell_type": "markdown",
     "metadata": {},
     "source": [
      "The same transformer instance can then be used to encode other samples."
     ]
    },
    {
     "cell_type": "code",
     "execution_count": 3,
     "metadata": {},
     "outputs": [
      {
       "data": {
        "text/html": [
         "<div>\n",
         "<style>\n",
         "    .dataframe thead tr:only-child th {\n",
         "        text-align: right;\n",
         "    }\n",
         "\n",
         "    .dataframe thead th {\n",
         "        text-align: left;\n",
         "    }\n",
         "\n",
         "    .dataframe tbody tr th {\n",
         "        vertical-align: top;\n",
         "    }\n",
         "</style>\n",
         "<table border=\"1\" class=\"dataframe\">\n",
         "  <thead>\n",
         "    <tr style=\"text-align: right;\">\n",
         "      <th></th>\n",
         "      <th>industry</th>\n",
         "    </tr>\n",
         "  </thead>\n",
         "  <tbody>\n",
         "    <tr>\n",
         "      <th>0</th>\n",
         "      <td>Enterprise Software, Finance Software</td>\n",
         "    </tr>\n",
         "  </tbody>\n",
         "</table>\n",
         "</div>"
        ],
        "text/plain": [
         "                                industry\n",
         "0  Enterprise Software, Finance Software"
        ]
       },
       "execution_count": 3,
       "metadata": {},
       "output_type": "execute_result"
      }
     ],
     "source": [
      "prediction_data = pd.DataFrame([['Enterprise Software, Finance Software']], columns=['industry'])\n",
      "prediction_data"
     ]
    },
    {
     "cell_type": "code",
     "execution_count": 4,
     "metadata": {},
     "outputs": [
      {
       "data": {
        "text/html": [
         "<div>\n",
         "<style>\n",
         "    .dataframe thead tr:only-child th {\n",
         "        text-align: right;\n",
         "    }\n",
         "\n",
         "    .dataframe thead th {\n",
         "        text-align: left;\n",
         "    }\n",
         "\n",
         "    .dataframe tbody tr th {\n",
         "        vertical-align: top;\n",
         "    }\n",
         "</style>\n",
         "<table border=\"1\" class=\"dataframe\">\n",
         "  <thead>\n",
         "    <tr style=\"text-align: right;\">\n",
         "      <th></th>\n",
         "      <th>industry_SaaS</th>\n",
         "      <th>industry_Health Care</th>\n",
         "      <th>industry_Enterprise Software</th>\n",
         "      <th>industry_Finance Software</th>\n",
         "    </tr>\n",
         "  </thead>\n",
         "  <tbody>\n",
         "    <tr>\n",
         "      <th>0</th>\n",
         "      <td>0</td>\n",
         "      <td>0</td>\n",
         "      <td>1</td>\n",
         "      <td>1</td>\n",
         "    </tr>\n",
         "  </tbody>\n",
         "</table>\n",
         "</div>"
        ],
        "text/plain": [
         "   industry_SaaS  industry_Health Care  industry_Enterprise Software  \\\n",
         "0              0                     0                             1   \n",
         "\n",
         "   industry_Finance Software  \n",
         "0                          1  "
        ]
       },
       "execution_count": 4,
       "metadata": {},
       "output_type": "execute_result"
      }
     ],
     "source": [
      "prediction_data_encoded = pd.DataFrame([\n",
      "    [0, 0, 1, 1]\n",
      "], columns=['industry_SaaS', 'industry_Health Care', 'industry_Enterprise Software', 'industry_Finance Software'])\n",
      "prediction_data_encoded"
     ]
    },
    {
      "metadata": {
        "id": "R51bQrhM-lxC",
        "colab_type": "text"
      },
      "cell_type": "markdown",
      "source": [
        "# Task\n",
        "\n",
        "Sklearn does not have a built-in transformer to handle such situations. Please create a sklearn compatible transformer for such encoding task. \n",
        "\n",
        "Here are some other requirements:\n",
        "1. The code need to be wrapped in a scikit-learn compatible transformer class\n",
        "1. The transformer should be able to handle different delimiters\n",
        "1. The transformer should be able to handle large amount of categories, with option to callapse less frequent categories\n",
        "1. Given a pandas Series as input, the result of the transformation should be a pandas DataFrame with meaningful column names indicating the categories"
      ]
    },
    {
      "metadata": {
        "id": "gDGXo4oc_0ST",
        "colab_type": "code",
        "colab": {}
      },
      "cell_type": "code",
      "source": [
        ""
      ],
      "execution_count": 0,
      "outputs": []
    }
  ]
}
